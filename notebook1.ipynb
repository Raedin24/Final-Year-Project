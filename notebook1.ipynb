{
 "cells": [
  {
   "cell_type": "code",
   "execution_count": 28,
   "metadata": {},
   "outputs": [],
   "source": [
    "import torch\n",
    "import sys"
   ]
  },
  {
   "cell_type": "code",
   "execution_count": 29,
   "metadata": {},
   "outputs": [],
   "source": [
    "sys.path.append(\"../CSWin-Transformer/\")\n",
    "from models.cswin import CSWin_64_12211_tiny_224 as cswt, _conv_filter"
   ]
  },
  {
   "cell_type": "code",
   "execution_count": 30,
   "metadata": {},
   "outputs": [],
   "source": [
    "# Initialize the CSWin model\n",
    "model = cswt(pretrained=True)"
   ]
  },
  {
   "cell_type": "code",
   "execution_count": 31,
   "metadata": {},
   "outputs": [
    {
     "name": "stdout",
     "output_type": "stream",
     "text": [
      "dict_keys(['state_dict_ema'])\n"
     ]
    }
   ],
   "source": [
    "# Load pretrained weights\n",
    "pretrained_weights_path = '../../../../../../raedin/Downloads/cswin_tiny_224.pth'\n",
    "checkpoint = torch.load(pretrained_weights_path, map_location='cpu')\n",
    "state_dict = checkpoint['state_dict_ema']\n",
    "state_dict = _conv_filter(state_dict)  # Convert patch embedding weight to conv\n",
    "model.load_state_dict(state_dict)\n",
    "\n",
    "print(checkpoint.keys())"
   ]
  }
 ],
 "metadata": {
  "kernelspec": {
   "display_name": "Python 3",
   "language": "python",
   "name": "python3"
  },
  "language_info": {
   "codemirror_mode": {
    "name": "ipython",
    "version": 3
   },
   "file_extension": ".py",
   "mimetype": "text/x-python",
   "name": "python",
   "nbconvert_exporter": "python",
   "pygments_lexer": "ipython3",
   "version": "3.9.18"
  }
 },
 "nbformat": 4,
 "nbformat_minor": 2
}
