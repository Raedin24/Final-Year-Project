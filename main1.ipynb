{
 "cells": [
  {
   "cell_type": "code",
   "execution_count": 1,
   "metadata": {},
   "outputs": [],
   "source": [
    "import torch\n",
    "import sys"
   ]
  },
  {
   "cell_type": "code",
   "execution_count": 2,
   "metadata": {},
   "outputs": [],
   "source": [
    "import sys\n",
    "import os\n",
    "\n",
    "# Use the built-in __file__ attribute if it's defined, otherwise use the current working directory\n",
    "script_dir = os.path.dirname(os.path.abspath(__file__)) if '__file__' in globals() else os.getcwd()\n",
    "\n",
    "# Construct the absolute path to the directory you want to add to the path\n",
    "path_to_add = os.path.join(script_dir, 'CSWin_Transformer')\n",
    "\n",
    "# Add the absolute path to sys.path\n",
    "sys.path.append(path_to_add)\n"
   ]
  },
  {
   "cell_type": "code",
   "execution_count": 4,
   "metadata": {},
   "outputs": [],
   "source": [
    "from CSWin_Transformer.models import CSWin_64_12211_tiny_224 as cswt\n",
    "from CSWin_Transformer.models.cswin import _conv_filter"
   ]
  },
  {
   "cell_type": "code",
   "execution_count": 5,
   "metadata": {},
   "outputs": [],
   "source": [
    "# Initialize the CSWin model\n",
    "model = cswt(pretrained=True)"
   ]
  },
  {
   "cell_type": "code",
   "execution_count": 7,
   "metadata": {},
   "outputs": [
    {
     "name": "stdout",
     "output_type": "stream",
     "text": [
      "dict_keys(['state_dict_ema'])\n"
     ]
    }
   ],
   "source": [
    "# Load pretrained weights\n",
    "pretrained_weights_path = 'Pretrained-Weight/cswin_tiny_224.pth'\n",
    "checkpoint = torch.load(pretrained_weights_path, map_location='cpu')\n",
    "state_dict = checkpoint['state_dict_ema']\n",
    "state_dict = _conv_filter(state_dict)  # Convert patch embedding weight to conv\n",
    "model.load_state_dict(state_dict)\n",
    "\n",
    "print(checkpoint.keys())"
   ]
  },
  {
   "cell_type": "code",
   "execution_count": null,
   "metadata": {},
   "outputs": [],
   "source": []
  },
  {
   "cell_type": "code",
   "execution_count": null,
   "metadata": {},
   "outputs": [],
   "source": []
  }
 ],
 "metadata": {
  "kernelspec": {
   "display_name": "project",
   "language": "python",
   "name": "python3"
  },
  "language_info": {
   "codemirror_mode": {
    "name": "ipython",
    "version": 3
   },
   "file_extension": ".py",
   "mimetype": "text/x-python",
   "name": "python",
   "nbconvert_exporter": "python",
   "pygments_lexer": "ipython3",
   "version": "3.9.18"
  }
 },
 "nbformat": 4,
 "nbformat_minor": 2
}
