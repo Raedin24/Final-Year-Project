{
 "cells": [
  {
   "cell_type": "code",
   "execution_count": 1,
   "id": "8c1eaa37",
   "metadata": {},
   "outputs": [
    {
     "name": "stdout",
     "output_type": "stream",
     "text": [
      "Python 3.10.12\r\n"
     ]
    }
   ],
   "source": [
    "!python3 --version"
   ]
  },
  {
   "cell_type": "code",
   "execution_count": 2,
   "id": "b439cebe",
   "metadata": {},
   "outputs": [
    {
     "name": "stdout",
     "output_type": "stream",
     "text": [
      "/home/raedin/Desktop/Academic/L400/DCIT 400/CSWin-Transformer\n"
     ]
    }
   ],
   "source": [
    "%cd ../CSWin-Transformer/"
   ]
  },
  {
   "cell_type": "code",
   "execution_count": 3,
   "id": "4ceced3d",
   "metadata": {},
   "outputs": [
    {
     "name": "stdout",
     "output_type": "stream",
     "text": [
      "env: PYTHONPATH=/home/raedin/Desktop/Academic/L400/DCIT 400/CSWin-Transformer\n"
     ]
    }
   ],
   "source": [
    "%env PYTHONPATH /home/raedin/Desktop/Academic/L400/DCIT 400/CSWin-Transformer"
   ]
  },
  {
   "cell_type": "code",
   "execution_count": 4,
   "id": "ec12b809",
   "metadata": {
    "scrolled": true
   },
   "outputs": [
    {
     "name": "stdout",
     "output_type": "stream",
     "text": [
      "['/home/raedin/Desktop/Academic/L400/DCIT 400/Notebooks', '/usr/lib/python310.zip', '/usr/lib/python3.10', '/usr/lib/python3.10/lib-dynload', '', '/home/raedin/.local/lib/python3.10/site-packages', '/usr/local/lib/python3.10/dist-packages', '/usr/lib/python3/dist-packages']\n"
     ]
    }
   ],
   "source": [
    "import sys\n",
    "print(sys.path)"
   ]
  },
  {
   "cell_type": "markdown",
   "id": "08cd13c0",
   "metadata": {},
   "source": [
    "### !sudo ./install_req.sh"
   ]
  },
  {
   "cell_type": "code",
   "execution_count": null,
   "id": "79d44ebe",
   "metadata": {},
   "outputs": [],
   "source": [
    "from .cswin import *"
   ]
  },
  {
   "cell_type": "code",
   "execution_count": null,
   "id": "658e755c",
   "metadata": {},
   "outputs": [],
   "source": []
  }
 ],
 "metadata": {
  "kernelspec": {
   "display_name": "Python 3 (ipykernel)",
   "language": "python",
   "name": "python3"
  },
  "language_info": {
   "codemirror_mode": {
    "name": "ipython",
    "version": 3
   },
   "file_extension": ".py",
   "mimetype": "text/x-python",
   "name": "python",
   "nbconvert_exporter": "python",
   "pygments_lexer": "ipython3",
   "version": "3.10.12"
  }
 },
 "nbformat": 4,
 "nbformat_minor": 5
}
